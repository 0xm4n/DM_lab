{
 "cells": [
  {
   "cell_type": "code",
   "execution_count": 7,
   "metadata": {},
   "outputs": [],
   "source": [
    "from pandas import read_csv\n",
    "from sklearn.model_selection import train_test_split\n",
    "from math import sqrt\n",
    "import operator"
   ]
  },
  {
   "cell_type": "code",
   "execution_count": 8,
   "metadata": {},
   "outputs": [],
   "source": [
    "#读取数据，切分训练集和测试集\n",
    "iris = read_csv('cui_iris.txt')\n",
    "dataset = iris.values[:,[0,1,2,3]]\n",
    "label = iris.values[:,4]\n",
    "x_train,x_test,y_train,y_test = train_test_split(dataset,label,test_size=0.2)\n",
    "k = 20"
   ]
  },
  {
   "cell_type": "code",
   "execution_count": 9,
   "metadata": {},
   "outputs": [],
   "source": [
    "def calcuDistance(a, b):\n",
    "    return sqrt(sum(pow(a - b, 2)))"
   ]
  },
  {
   "cell_type": "code",
   "execution_count": 10,
   "metadata": {},
   "outputs": [],
   "source": [
    "def knn(input_data,x_train,y_train,k):\n",
    "    output = []\n",
    "    #对每个点进行投票\n",
    "    for i in range(len(input_data)):\n",
    "        distances = []\n",
    "        neighbors = []\n",
    "        #算距离，排序，找k个邻居\n",
    "        for j in range(len(x_train)):\n",
    "            distance = calcuDistance(input_data[i],x_train[j])\n",
    "            distances.append((distance,y_train[j]))\n",
    "        distances.sort(key=operator.itemgetter(0))\n",
    "        for j in range(k):\n",
    "            neighbors.append(distances[j])\n",
    "        #统计k个邻居的类别，进行投票\n",
    "        voteCount={}\n",
    "        for i in range(k):\n",
    "            voteLabel = neighbors[i][1]\n",
    "            voteCount[voteLabel] = voteCount.get(voteLabel,0) + 1\n",
    "        maxVote = 0\n",
    "        for key,value in voteCount.items():\n",
    "            if value > maxVote:\n",
    "                maxVote = value\n",
    "                clusterType = key\n",
    "        output.append(clusterType)\n",
    "    return output"
   ]
  },
  {
   "cell_type": "code",
   "execution_count": 11,
   "metadata": {},
   "outputs": [],
   "source": [
    "def calcuAccuracy(y_test,y_predict):\n",
    "    correct = 0\n",
    "    for i in range(len(y_test)):\n",
    "        if y_test[i] is y_predict[i]:\n",
    "            correct += 1\n",
    "    import numpy as np\n",
    "    result = []\n",
    "    for i in range(len(y_predict)):\n",
    "        if y_predict[i] is y_test[i]:\n",
    "            result.append('true')\n",
    "        else:\n",
    "            result.append('false')\n",
    "    print(np.c_[y_predict,y_test,result])\n",
    "    return 1.0 * correct / len(y_test)"
   ]
  },
  {
   "cell_type": "code",
   "execution_count": 12,
   "metadata": {},
   "outputs": [
    {
     "name": "stdout",
     "output_type": "stream",
     "text": [
      "[['Iris-virginica' 'Iris-virginica' 'true']\n",
      " ['Iris-versicolor' 'Iris-versicolor' 'true']\n",
      " ['Iris-setosa' 'Iris-setosa' 'true']\n",
      " ['Iris-versicolor' 'Iris-versicolor' 'true']\n",
      " ['Iris-virginica' 'Iris-virginica' 'true']\n",
      " ['Iris-versicolor' 'Iris-versicolor' 'true']\n",
      " ['Iris-versicolor' 'Iris-versicolor' 'true']\n",
      " ['Iris-virginica' 'Iris-virginica' 'true']\n",
      " ['Iris-setosa' 'Iris-setosa' 'true']\n",
      " ['Iris-setosa' 'Iris-setosa' 'true']\n",
      " ['Iris-setosa' 'Iris-setosa' 'true']\n",
      " ['Iris-setosa' 'Iris-setosa' 'true']\n",
      " ['Iris-versicolor' 'Iris-versicolor' 'true']\n",
      " ['Iris-setosa' 'Iris-setosa' 'true']\n",
      " ['Iris-setosa' 'Iris-setosa' 'true']\n",
      " ['Iris-virginica' 'Iris-virginica' 'true']\n",
      " ['Iris-virginica' 'Iris-virginica' 'true']\n",
      " ['Iris-versicolor' 'Iris-versicolor' 'true']\n",
      " ['Iris-setosa' 'Iris-setosa' 'true']\n",
      " ['Iris-setosa' 'Iris-setosa' 'true']\n",
      " ['Iris-virginica' 'Iris-virginica' 'true']\n",
      " ['Iris-versicolor' 'Iris-versicolor' 'true']\n",
      " ['Iris-virginica' 'Iris-virginica' 'true']\n",
      " ['Iris-virginica' 'Iris-virginica' 'true']\n",
      " ['Iris-setosa' 'Iris-setosa' 'true']\n",
      " ['Iris-versicolor' 'Iris-versicolor' 'true']\n",
      " ['Iris-setosa' 'Iris-setosa' 'true']\n",
      " ['Iris-versicolor' 'Iris-versicolor' 'true']\n",
      " ['Iris-versicolor' 'Iris-versicolor' 'true']\n",
      " ['Iris-virginica' 'Iris-virginica' 'true']]\n",
      "Accuracy =  1.0\n"
     ]
    }
   ],
   "source": [
    "y_predict = knn(x_test,x_train,y_train,k)\n",
    "acc = calcuAccuracy(y_test,y_predict)\n",
    "print(\"Accuracy = \",acc)"
   ]
  }
 ],
 "metadata": {
  "kernelspec": {
   "display_name": "Python 3",
   "language": "python",
   "name": "python3"
  },
  "language_info": {
   "codemirror_mode": {
    "name": "ipython",
    "version": 3
   },
   "file_extension": ".py",
   "mimetype": "text/x-python",
   "name": "python",
   "nbconvert_exporter": "python",
   "pygments_lexer": "ipython3",
   "version": "3.6.5"
  }
 },
 "nbformat": 4,
 "nbformat_minor": 2
}
